{
 "cells": [
  {
   "cell_type": "code",
   "execution_count": 3,
   "id": "fcfa259a-f4cf-40c4-8236-cec53509588e",
   "metadata": {},
   "outputs": [
    {
     "name": "stdin",
     "output_type": "stream",
     "text": [
      "Enter item name (or 'done' to finish):  Apple\n",
      "Enter quantity:  25\n",
      "Enter price per unit: $ 5\n",
      "Enter item name (or 'done' to finish):  Mango\n",
      "Enter quantity:  10\n",
      "Enter price per unit: $ 10\n",
      "Enter item name (or 'done' to finish):  done\n"
     ]
    },
    {
     "name": "stdout",
     "output_type": "stream",
     "text": [
      "\n",
      "--- Supermarket Receipt ---\n",
      "Item                 Quantity   Price      Total     \n",
      "--------------------------------------------------\n",
      "Apple                25         $5.00       $125.00    \n",
      "Mango                10         $10.00      $100.00    \n",
      "--------------------------------------------------\n",
      "Subtotal:                                $225.00    \n",
      "Discount Applied:                        $22.50     \n",
      "Total Amount Due:                        $202.50    \n",
      "Thank you for shopping with us!\n"
     ]
    }
   ],
   "source": [
    "# Supermarket Billing System\n",
    "\n",
    "def apply_discount(subtotal):\n",
    "    \"\"\"\n",
    "    Apply discounts based on the subtotal.\n",
    "    - 5% discount for subtotals >= 100\n",
    "    - 10% discount for subtotals >= 200\n",
    "    \"\"\"\n",
    "    if subtotal >= 200:\n",
    "        return subtotal * 0.10  # 10% discount\n",
    "    elif subtotal >= 100:\n",
    "        return subtotal * 0.05  # 5% discount\n",
    "    else:\n",
    "        return 0  # No discount\n",
    "\n",
    "def generate_receipt(items, subtotal, discount, total):\n",
    "    \"\"\"\n",
    "    Generate and display an itemized receipt.\n",
    "    \"\"\"\n",
    "    print(\"\\n--- Supermarket Receipt ---\")\n",
    "    print(\"{:<20} {:<10} {:<10} {:<10}\".format(\"Item\", \"Quantity\", \"Price\", \"Total\"))\n",
    "    print(\"-\" * 50)\n",
    "    for item in items:\n",
    "        print(\"{:<20} {:<10} ${:<10.2f} ${:<10.2f}\".format(item[\"name\"], item[\"quantity\"], item[\"price\"], \n",
    "                                                           item[\"quantity\"] * item[\"price\"]))\n",
    "    print(\"-\" * 50)\n",
    "    print(\"{:<40} ${:<10.2f}\".format(\"Subtotal:\", subtotal))\n",
    "    print(\"{:<40} ${:<10.2f}\".format(\"Discount Applied:\", discount))\n",
    "    print(\"{:<40} ${:<10.2f}\".format(\"Total Amount Due:\", total))\n",
    "    print(\"Thank you for shopping with us!\")\n",
    "\n",
    "def main():\n",
    "    \"\"\"\n",
    "    Main function to handle the billing process.\n",
    "    \"\"\"\n",
    "    items = []\n",
    "    while True:\n",
    "        # Input item details\n",
    "        name = input(\"Enter item name (or 'done' to finish): \")\n",
    "        if name.lower() == 'done':\n",
    "            break\n",
    "        quantity = int(input(\"Enter quantity: \"))\n",
    "        price = float(input(\"Enter price per unit: $\"))\n",
    "\n",
    "        # Add item to the list\n",
    "        items.append({\n",
    "            \"name\": name,\n",
    "            \"quantity\": quantity,\n",
    "            \"price\": price\n",
    "        })\n",
    "\n",
    "    # Calculate subtotal\n",
    "    subtotal = sum(item[\"quantity\"] * item[\"price\"] for item in items)\n",
    "\n",
    "    # Apply discount\n",
    "    discount = apply_discount(subtotal)\n",
    "    total = subtotal - discount\n",
    "\n",
    "    # Generate and display receipt\n",
    "    \n",
    "    generate_receipt(items, subtotal, discount, total)\n",
    "\n",
    "if __name__ == \"__main__\":\n",
    "    main()"
   ]
  },
  {
   "cell_type": "code",
   "execution_count": null,
   "id": "3a0b806b-22a3-46e5-b83c-2f53549c9626",
   "metadata": {},
   "outputs": [],
   "source": []
  }
 ],
 "metadata": {
  "kernelspec": {
   "display_name": "Python 3 (ipykernel)",
   "language": "python",
   "name": "python3"
  },
  "language_info": {
   "codemirror_mode": {
    "name": "ipython",
    "version": 3
   },
   "file_extension": ".py",
   "mimetype": "text/x-python",
   "name": "python",
   "nbconvert_exporter": "python",
   "pygments_lexer": "ipython3",
   "version": "3.13.1"
  }
 },
 "nbformat": 4,
 "nbformat_minor": 5
}
